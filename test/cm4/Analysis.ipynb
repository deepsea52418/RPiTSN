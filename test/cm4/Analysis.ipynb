{
 "cells": [
  {
   "cell_type": "code",
   "execution_count": 155,
   "id": "f70a10ab",
   "metadata": {},
   "outputs": [],
   "source": [
    "import pandas as pd\n",
    "import numpy as np\n",
    "import re\n",
    "import seaborn as sns\n",
    "import matplotlib.pyplot as plt"
   ]
  },
  {
   "cell_type": "code",
   "execution_count": 240,
   "id": "ae61694b",
   "metadata": {},
   "outputs": [],
   "source": [
    "def io_file(path):\n",
    "    with open(path, \"r\") as file:\n",
    "        a = file.read().split('\\n')\n",
    "        result = []\n",
    "        temp = {}\n",
    "\n",
    "        for row in a:\n",
    "            if 'Iter' in row:\n",
    "                result.append(temp)\n",
    "                temp = {}\n",
    "                temp['Iter'] = int(re.findall(r'\\d+', row)[0])\n",
    "            elif 'SW-SCHE' in row:\n",
    "                temp['SW-SCHE'] = row.split(' ')[-1]\n",
    "            elif 'SW-SEND' in row:\n",
    "                temp['SW-SEND'] = row.split(' ')[-1]\n",
    "            elif 'HW-SEND' in row:\n",
    "                temp['HW-SEND'] = row.split(' ')[-1].split('.')[-1]\n",
    "\n",
    "        format_result = np.zeros((result[-1]['Iter'] + 1, 3))\n",
    "\n",
    "        for maps in result:\n",
    "            if 'Iter' in maps:\n",
    "                index = int(maps['Iter'])\n",
    "                if 'SW-SCHE' in maps:\n",
    "                    format_result[index, 0] = np.float64(maps['SW-SCHE'])\n",
    "                else:\n",
    "                    format_result[index, 0] = np.nan\n",
    "                if 'SW-SEND' in maps:\n",
    "                    format_result[index, 1] = np.float64(maps['SW-SEND'])\n",
    "                else:\n",
    "                    format_result[index, 1] = np.nan\n",
    "                if 'HW-SEND' in maps:\n",
    "                    format_result[index, 2] = np.int64(maps['HW-SEND'])\n",
    "                else:\n",
    "                    format_result[index, 2] = np.nan\n",
    "        return format_result"
   ]
  },
  {
   "cell_type": "code",
   "execution_count": 320,
   "id": "c71cd532",
   "metadata": {},
   "outputs": [],
   "source": [
    "dell_result = io_file('dell_50us.txt')\n",
    "cm4_result = io_file('cm4_50us.txt')"
   ]
  },
  {
   "cell_type": "code",
   "execution_count": 321,
   "id": "94b8bdd5",
   "metadata": {},
   "outputs": [
    {
     "data": {
      "text/plain": [
       "array([      0, 1334134, 1334134])"
      ]
     },
     "execution_count": 321,
     "metadata": {},
     "output_type": "execute_result"
    }
   ],
   "source": [
    "np.sum(np.isnan(dell_result), axis = 0)"
   ]
  },
  {
   "cell_type": "code",
   "execution_count": 322,
   "id": "f2673b52",
   "metadata": {},
   "outputs": [
    {
     "data": {
      "text/plain": [
       "1999992"
      ]
     },
     "execution_count": 322,
     "metadata": {},
     "output_type": "execute_result"
    }
   ],
   "source": [
    "dell_result.shape[0]"
   ]
  },
  {
   "cell_type": "code",
   "execution_count": 323,
   "id": "5ba834d8",
   "metadata": {},
   "outputs": [
    {
     "data": {
      "text/plain": [
       "153507"
      ]
     },
     "execution_count": 323,
     "metadata": {},
     "output_type": "execute_result"
    }
   ],
   "source": [
    "cm4_result.shape[0]"
   ]
  },
  {
   "cell_type": "code",
   "execution_count": 324,
   "id": "5eeea511",
   "metadata": {},
   "outputs": [
    {
     "data": {
      "text/plain": [
       "array([0.        , 0.99999349, 0.99999349])"
      ]
     },
     "execution_count": 324,
     "metadata": {},
     "output_type": "execute_result"
    }
   ],
   "source": [
    "np.sum(np.isnan(cm4_result), axis = 0) / cm4_result.shape[0]"
   ]
  },
  {
   "cell_type": "code",
   "execution_count": 325,
   "id": "14339104",
   "metadata": {},
   "outputs": [
    {
     "data": {
      "text/plain": [
       "array([0.        , 0.66706967, 0.66706967])"
      ]
     },
     "execution_count": 325,
     "metadata": {},
     "output_type": "execute_result"
    }
   ],
   "source": [
    "np.sum(np.isnan(dell_result), axis = 0) / dell_result.shape[0]"
   ]
  },
  {
   "cell_type": "code",
   "execution_count": 332,
   "id": "6dffc007",
   "metadata": {},
   "outputs": [
    {
     "data": {
      "text/plain": [
       "4.0531158447265625e-06"
      ]
     },
     "execution_count": 332,
     "metadata": {},
     "output_type": "execute_result"
    }
   ],
   "source": [
    "np.nanmin(np.diff(dell_result[:, 1]))"
   ]
  },
  {
   "cell_type": "code",
   "execution_count": 333,
   "id": "39faa6f5",
   "metadata": {},
   "outputs": [
    {
     "data": {
      "text/plain": [
       "0.0024611949920654297"
      ]
     },
     "execution_count": 333,
     "metadata": {},
     "output_type": "execute_result"
    }
   ],
   "source": [
    "np.nanmax(np.diff(dell_result[:, 1]))"
   ]
  },
  {
   "cell_type": "code",
   "execution_count": 334,
   "id": "f1634aa7",
   "metadata": {},
   "outputs": [],
   "source": [
    "dell_sw = 5e-6 - np.diff(dell_result[:, 1])\n",
    "cm4_sw = 5e-6 - np.diff(cm4_result[:, 1])\n",
    "dell_hw = np.diff(dell_result[:, 2] % 5e7) * 1e-9\n",
    "cm4_hw = np.diff(cm4_result[:, 2] % 5e7) * 1e-9"
   ]
  },
  {
   "cell_type": "code",
   "execution_count": 335,
   "id": "8cc8bc58",
   "metadata": {},
   "outputs": [
    {
     "name": "stdout",
     "output_type": "stream",
     "text": [
      "0.00015556016188401434 nan 0.00015032092307692307 nan\n"
     ]
    },
    {
     "name": "stderr",
     "output_type": "stream",
     "text": [
      "/tmp/ipykernel_172726/516289474.py:3: RuntimeWarning: Mean of empty slice\n",
      "  np.nanmean(np.abs(cm4_sw)),\n",
      "/tmp/ipykernel_172726/516289474.py:5: RuntimeWarning: Mean of empty slice\n",
      "  np.nanmean(np.abs(cm4_hw))\n"
     ]
    }
   ],
   "source": [
    "print(\n",
    "    np.nanmean(np.abs(dell_sw)), \n",
    "        np.nanmean(np.abs(cm4_sw)), \n",
    "        np.nanmean(np.abs(dell_hw)), \n",
    "        np.nanmean(np.abs(cm4_hw))\n",
    "     )"
   ]
  },
  {
   "cell_type": "code",
   "execution_count": 319,
   "id": "04fccee9",
   "metadata": {},
   "outputs": [
    {
     "data": {
      "image/png": "[encoded data removed]",
      "text/plain": [
       "<Figure size 720x216 with 2 Axes>"
      ]
     },
     "metadata": {
      "needs_background": "light"
     },
     "output_type": "display_data"
    }
   ],
   "source": [
    "fig, axes = plt.subplots(1, 2, figsize=(10,3))\n",
    "\n",
    "ax = sns.lineplot(ax=axes[0], x=range(dell_sw.shape[0]), y = dell_sw, label='OptiPlex 7090')\n",
    "ax = sns.lineplot(ax=axes[0], x=range(cm4_sw.shape[0]), y = cm4_sw, label='RPi CM4')\n",
    "ax.set_xlabel('Pkt Index')\n",
    "ax.set_ylabel('t_i - t_i-1 - p (sec)')\n",
    "ax.set_title('Application layer')\n",
    "\n",
    "ax = sns.lineplot(ax=axes[1],x=range(dell_hw.shape[0]), y = dell_hw, label='OptiPlex 7090')\n",
    "ax = sns.lineplot(ax=axes[1],x=range(cm4_hw.shape[0]), y = cm4_hw, label='RPi CM4')\n",
    "ax.set_xlabel('Pkt Index')\n",
    "ax.set_title('MAC layer')\n",
    "ax.set_ylim(-1e-4, 1e-4)\n",
    "\n",
    "fig.suptitle('Comparision on sending jitter (1Hz)', va='bottom')\n",
    "fig.savefig('100hz_jitter.pdf', bbox_inches='tight')"
   ]
  },
  {
   "cell_type": "code",
   "execution_count": null,
   "id": "22fa1d9d",
   "metadata": {},
   "outputs": [],
   "source": []
  }
 ],
 "metadata": {
  "kernelspec": {
   "display_name": "Python 3 (ipykernel)",
   "language": "python",
   "name": "python3"
  },
  "language_info": {
   "codemirror_mode": {
    "name": "ipython",
    "version": 3
   },
   "file_extension": ".py",
   "mimetype": "text/x-python",
   "name": "python",
   "nbconvert_exporter": "python",
   "pygments_lexer": "ipython3",
   "version": "3.8.10"
  }
 },
 "nbformat": 4,
 "nbformat_minor": 5
}
